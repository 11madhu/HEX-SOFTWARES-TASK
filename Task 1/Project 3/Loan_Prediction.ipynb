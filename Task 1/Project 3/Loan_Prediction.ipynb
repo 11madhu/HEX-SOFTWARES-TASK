{
  "nbformat": 4,
  "nbformat_minor": 0,
  "metadata": {
    "colab": {
      "name": "Loan Prediction.ipynb",
      "provenance": []
    },
    "kernelspec": {
      "name": "python3",
      "display_name": "Python 3"
    }
  },
  "cells": [
    {
      "cell_type": "code",
      "source": [
        "#Loan Eligibility Prediction Task:\n",
        "#Load the dataset and explore it to understand the structure, features, and target variable (Loan Status: Approved/Not Approved).\n",
        "#Loan Eligibility Prediction will provide you with comprehensive and detailed knowledge of Data Science concepts with a hands-on project where you will learn to develop a Loan Eligibility Prediction model using Python. In the process you will learn popular Machine Learning Algorithms and explore numerous Python Libraries.\n"
      ],
      "metadata": {
        "id": "QvpVNvOghN1T"
      },
      "execution_count": 1,
      "outputs": []
    },
    {
      "cell_type": "markdown",
      "metadata": {
        "id": "gR-_K5tp1zXy"
      },
      "source": [
        "#Importing all the required libraries"
      ]
    },
    {
      "cell_type": "code",
      "metadata": {
        "id": "r6M_mBpe1tZ-"
      },
      "source": [
        "import matplotlib.pyplot as plt                                                 #for visualization\n",
        "import numpy as np                                                              #for arrays\n",
        "import pandas as pd                                                             #for dataframe\n",
        "from sklearn.linear_model import LogisticRegression                             #for logistic regression model\n",
        "from sklearn.linear_model import LinearRegression                               #for linear regression model\n",
        "from sklearn.metrics import classification_report, confusion_matrix             #for getting report and confusion matrix\n",
        "from google.colab import files                                                  #for uploading files to colab\n",
        "import io                                                                       #for uploading files to colab\n",
        "#from sklearn import preprocessing                                               #for normalization if needed"
      ],
      "execution_count": 2,
      "outputs": []
    },
    {
      "cell_type": "markdown",
      "metadata": {
        "id": "EYmeEou_3VXW"
      },
      "source": [
        "#Uploading the dataset and storing it in the dataframe"
      ]
    },
    {
      "cell_type": "code",
      "metadata": {
        "colab": {
          "base_uri": "https://localhost:8080/",
          "height": 73
        },
        "id": "zp8y6ol63b1f",
        "outputId": "743237fe-7e31-4779-c73b-814347fd3d3b"
      },
      "source": [
        "uploaded = files.upload()"
      ],
      "execution_count": 3,
      "outputs": [
        {
          "output_type": "display_data",
          "data": {
            "text/plain": [
              "<IPython.core.display.HTML object>"
            ],
            "text/html": [
              "\n",
              "     <input type=\"file\" id=\"files-494bd2d1-122a-47e4-9466-29f88aece82a\" name=\"files[]\" multiple disabled\n",
              "        style=\"border:none\" />\n",
              "     <output id=\"result-494bd2d1-122a-47e4-9466-29f88aece82a\">\n",
              "      Upload widget is only available when the cell has been executed in the\n",
              "      current browser session. Please rerun this cell to enable.\n",
              "      </output>\n",
              "      <script>// Copyright 2017 Google LLC\n",
              "//\n",
              "// Licensed under the Apache License, Version 2.0 (the \"License\");\n",
              "// you may not use this file except in compliance with the License.\n",
              "// You may obtain a copy of the License at\n",
              "//\n",
              "//      http://www.apache.org/licenses/LICENSE-2.0\n",
              "//\n",
              "// Unless required by applicable law or agreed to in writing, software\n",
              "// distributed under the License is distributed on an \"AS IS\" BASIS,\n",
              "// WITHOUT WARRANTIES OR CONDITIONS OF ANY KIND, either express or implied.\n",
              "// See the License for the specific language governing permissions and\n",
              "// limitations under the License.\n",
              "\n",
              "/**\n",
              " * @fileoverview Helpers for google.colab Python module.\n",
              " */\n",
              "(function(scope) {\n",
              "function span(text, styleAttributes = {}) {\n",
              "  const element = document.createElement('span');\n",
              "  element.textContent = text;\n",
              "  for (const key of Object.keys(styleAttributes)) {\n",
              "    element.style[key] = styleAttributes[key];\n",
              "  }\n",
              "  return element;\n",
              "}\n",
              "\n",
              "// Max number of bytes which will be uploaded at a time.\n",
              "const MAX_PAYLOAD_SIZE = 100 * 1024;\n",
              "\n",
              "function _uploadFiles(inputId, outputId) {\n",
              "  const steps = uploadFilesStep(inputId, outputId);\n",
              "  const outputElement = document.getElementById(outputId);\n",
              "  // Cache steps on the outputElement to make it available for the next call\n",
              "  // to uploadFilesContinue from Python.\n",
              "  outputElement.steps = steps;\n",
              "\n",
              "  return _uploadFilesContinue(outputId);\n",
              "}\n",
              "\n",
              "// This is roughly an async generator (not supported in the browser yet),\n",
              "// where there are multiple asynchronous steps and the Python side is going\n",
              "// to poll for completion of each step.\n",
              "// This uses a Promise to block the python side on completion of each step,\n",
              "// then passes the result of the previous step as the input to the next step.\n",
              "function _uploadFilesContinue(outputId) {\n",
              "  const outputElement = document.getElementById(outputId);\n",
              "  const steps = outputElement.steps;\n",
              "\n",
              "  const next = steps.next(outputElement.lastPromiseValue);\n",
              "  return Promise.resolve(next.value.promise).then((value) => {\n",
              "    // Cache the last promise value to make it available to the next\n",
              "    // step of the generator.\n",
              "    outputElement.lastPromiseValue = value;\n",
              "    return next.value.response;\n",
              "  });\n",
              "}\n",
              "\n",
              "/**\n",
              " * Generator function which is called between each async step of the upload\n",
              " * process.\n",
              " * @param {string} inputId Element ID of the input file picker element.\n",
              " * @param {string} outputId Element ID of the output display.\n",
              " * @return {!Iterable<!Object>} Iterable of next steps.\n",
              " */\n",
              "function* uploadFilesStep(inputId, outputId) {\n",
              "  const inputElement = document.getElementById(inputId);\n",
              "  inputElement.disabled = false;\n",
              "\n",
              "  const outputElement = document.getElementById(outputId);\n",
              "  outputElement.innerHTML = '';\n",
              "\n",
              "  const pickedPromise = new Promise((resolve) => {\n",
              "    inputElement.addEventListener('change', (e) => {\n",
              "      resolve(e.target.files);\n",
              "    });\n",
              "  });\n",
              "\n",
              "  const cancel = document.createElement('button');\n",
              "  inputElement.parentElement.appendChild(cancel);\n",
              "  cancel.textContent = 'Cancel upload';\n",
              "  const cancelPromise = new Promise((resolve) => {\n",
              "    cancel.onclick = () => {\n",
              "      resolve(null);\n",
              "    };\n",
              "  });\n",
              "\n",
              "  // Wait for the user to pick the files.\n",
              "  const files = yield {\n",
              "    promise: Promise.race([pickedPromise, cancelPromise]),\n",
              "    response: {\n",
              "      action: 'starting',\n",
              "    }\n",
              "  };\n",
              "\n",
              "  cancel.remove();\n",
              "\n",
              "  // Disable the input element since further picks are not allowed.\n",
              "  inputElement.disabled = true;\n",
              "\n",
              "  if (!files) {\n",
              "    return {\n",
              "      response: {\n",
              "        action: 'complete',\n",
              "      }\n",
              "    };\n",
              "  }\n",
              "\n",
              "  for (const file of files) {\n",
              "    const li = document.createElement('li');\n",
              "    li.append(span(file.name, {fontWeight: 'bold'}));\n",
              "    li.append(span(\n",
              "        `(${file.type || 'n/a'}) - ${file.size} bytes, ` +\n",
              "        `last modified: ${\n",
              "            file.lastModifiedDate ? file.lastModifiedDate.toLocaleDateString() :\n",
              "                                    'n/a'} - `));\n",
              "    const percent = span('0% done');\n",
              "    li.appendChild(percent);\n",
              "\n",
              "    outputElement.appendChild(li);\n",
              "\n",
              "    const fileDataPromise = new Promise((resolve) => {\n",
              "      const reader = new FileReader();\n",
              "      reader.onload = (e) => {\n",
              "        resolve(e.target.result);\n",
              "      };\n",
              "      reader.readAsArrayBuffer(file);\n",
              "    });\n",
              "    // Wait for the data to be ready.\n",
              "    let fileData = yield {\n",
              "      promise: fileDataPromise,\n",
              "      response: {\n",
              "        action: 'continue',\n",
              "      }\n",
              "    };\n",
              "\n",
              "    // Use a chunked sending to avoid message size limits. See b/62115660.\n",
              "    let position = 0;\n",
              "    do {\n",
              "      const length = Math.min(fileData.byteLength - position, MAX_PAYLOAD_SIZE);\n",
              "      const chunk = new Uint8Array(fileData, position, length);\n",
              "      position += length;\n",
              "\n",
              "      const base64 = btoa(String.fromCharCode.apply(null, chunk));\n",
              "      yield {\n",
              "        response: {\n",
              "          action: 'append',\n",
              "          file: file.name,\n",
              "          data: base64,\n",
              "        },\n",
              "      };\n",
              "\n",
              "      let percentDone = fileData.byteLength === 0 ?\n",
              "          100 :\n",
              "          Math.round((position / fileData.byteLength) * 100);\n",
              "      percent.textContent = `${percentDone}% done`;\n",
              "\n",
              "    } while (position < fileData.byteLength);\n",
              "  }\n",
              "\n",
              "  // All done.\n",
              "  yield {\n",
              "    response: {\n",
              "      action: 'complete',\n",
              "    }\n",
              "  };\n",
              "}\n",
              "\n",
              "scope.google = scope.google || {};\n",
              "scope.google.colab = scope.google.colab || {};\n",
              "scope.google.colab._files = {\n",
              "  _uploadFiles,\n",
              "  _uploadFilesContinue,\n",
              "};\n",
              "})(self);\n",
              "</script> "
            ]
          },
          "metadata": {}
        },
        {
          "output_type": "stream",
          "name": "stdout",
          "text": [
            "Saving Loan prediction dataset.csv to Loan prediction dataset.csv\n"
          ]
        }
      ]
    },
    {
      "cell_type": "code",
      "metadata": {
        "colab": {
          "base_uri": "https://localhost:8080/"
        },
        "id": "mDLjcoeE36-a",
        "outputId": "e19022e4-7342-441d-b571-aed951345f59"
      },
      "source": [
        "dataset = pd.read_csv(io.BytesIO(uploaded['Loan prediction dataset.csv']))\n",
        "print(dataset)"
      ],
      "execution_count": 4,
      "outputs": [
        {
          "output_type": "stream",
          "name": "stdout",
          "text": [
            "    Age   Income Employee Credit_Rating Buys_Loan\n",
            "0    28  2400000       no          fair        no\n",
            "1    27  2600000       no     excellent        no\n",
            "2    38  2800000       no          fair       yes\n",
            "3    49  1600000       no          fair       yes\n",
            "4    48   800000      yes          fair       yes\n",
            "5    49   900000      yes     excellent        no\n",
            "6    36   600000      yes     excellent       yes\n",
            "7    26  1800000       no          fair        no\n",
            "8    24   700000      yes          fair       yes\n",
            "9    51  1400000      yes          fair       yes\n",
            "10   26  1600000      yes     excellent       yes\n",
            "11   39  1700000       no     excellent       yes\n",
            "12   40  3200000      yes          fair       yes\n",
            "13   50  1600000       no     excellent        no\n"
          ]
        }
      ]
    },
    {
      "cell_type": "markdown",
      "metadata": {
        "id": "3vTbXJqb4CbX"
      },
      "source": [
        "#Data Preprocessing"
      ]
    },
    {
      "cell_type": "markdown",
      "metadata": {
        "id": "-bud55pb4OqI"
      },
      "source": [
        "Age, Income, Employee, Credit_Rating are the Independent variables</br>\n",
        "Buys_Loan is the dependent variable</br>\n",
        "Age, Income are Continuous variables and Employee, Credit_Rating, Buys_Loan are Categorical variables</br>\n",
        "Employee Status: Yes --> 1; No --> 0</br>\n",
        "Credit_Rating:   Fair -->0; Excellent -->1</br>\n",
        "Buys_Loan:      Yes --> 1; No --> 0"
      ]
    },
    {
      "cell_type": "code",
      "metadata": {
        "colab": {
          "base_uri": "https://localhost:8080/"
        },
        "id": "UVpiIKkh6Gdl",
        "outputId": "c1ef8fb4-adb2-4d16-b619-407d636d975c"
      },
      "source": [
        "dataset['Employee'] = dataset['Employee'].replace(['no','yes'],[0,1])\n",
        "dataset['Buys_Loan'] = dataset['Buys_Loan'].replace(['no','yes'],[0,1])\n",
        "dataset['Credit_Rating'] = dataset['Credit_Rating'].replace(['fair','excellent'],[0,1])\n",
        "print(dataset)"
      ],
      "execution_count": 5,
      "outputs": [
        {
          "output_type": "stream",
          "name": "stdout",
          "text": [
            "    Age   Income  Employee  Credit_Rating  Buys_Loan\n",
            "0    28  2400000         0              0          0\n",
            "1    27  2600000         0              1          0\n",
            "2    38  2800000         0              0          1\n",
            "3    49  1600000         0              0          1\n",
            "4    48   800000         1              0          1\n",
            "5    49   900000         1              1          0\n",
            "6    36   600000         1              1          1\n",
            "7    26  1800000         0              0          0\n",
            "8    24   700000         1              0          1\n",
            "9    51  1400000         1              0          1\n",
            "10   26  1600000         1              1          1\n",
            "11   39  1700000         0              1          1\n",
            "12   40  3200000         1              0          1\n",
            "13   50  1600000         0              1          0\n"
          ]
        },
        {
          "output_type": "stream",
          "name": "stderr",
          "text": [
            "<ipython-input-5-dee443fa0b67>:1: FutureWarning: Downcasting behavior in `replace` is deprecated and will be removed in a future version. To retain the old behavior, explicitly call `result.infer_objects(copy=False)`. To opt-in to the future behavior, set `pd.set_option('future.no_silent_downcasting', True)`\n",
            "  dataset['Employee'] = dataset['Employee'].replace(['no','yes'],[0,1])\n",
            "<ipython-input-5-dee443fa0b67>:2: FutureWarning: Downcasting behavior in `replace` is deprecated and will be removed in a future version. To retain the old behavior, explicitly call `result.infer_objects(copy=False)`. To opt-in to the future behavior, set `pd.set_option('future.no_silent_downcasting', True)`\n",
            "  dataset['Buys_Loan'] = dataset['Buys_Loan'].replace(['no','yes'],[0,1])\n",
            "<ipython-input-5-dee443fa0b67>:3: FutureWarning: Downcasting behavior in `replace` is deprecated and will be removed in a future version. To retain the old behavior, explicitly call `result.infer_objects(copy=False)`. To opt-in to the future behavior, set `pd.set_option('future.no_silent_downcasting', True)`\n",
            "  dataset['Credit_Rating'] = dataset['Credit_Rating'].replace(['fair','excellent'],[0,1])\n"
          ]
        }
      ]
    },
    {
      "cell_type": "code",
      "metadata": {
        "colab": {
          "base_uri": "https://localhost:8080/"
        },
        "id": "0Vgf5QBf6gt5",
        "outputId": "acfaa7d1-5281-45d4-a2e1-894d4d7a252a"
      },
      "source": [
        "dataset.info()"
      ],
      "execution_count": 6,
      "outputs": [
        {
          "output_type": "stream",
          "name": "stdout",
          "text": [
            "<class 'pandas.core.frame.DataFrame'>\n",
            "RangeIndex: 14 entries, 0 to 13\n",
            "Data columns (total 5 columns):\n",
            " #   Column         Non-Null Count  Dtype\n",
            "---  ------         --------------  -----\n",
            " 0   Age            14 non-null     int64\n",
            " 1   Income         14 non-null     int64\n",
            " 2   Employee       14 non-null     int64\n",
            " 3   Credit_Rating  14 non-null     int64\n",
            " 4   Buys_Loan      14 non-null     int64\n",
            "dtypes: int64(5)\n",
            "memory usage: 688.0 bytes\n"
          ]
        }
      ]
    },
    {
      "cell_type": "code",
      "metadata": {
        "id": "o1rRVBgm73ia"
      },
      "source": [
        "dataset['Buys_Loan']=pd.Categorical(dataset.Buys_Loan)\n",
        "dataset['Employee']=pd.Categorical(dataset.Employee)\n",
        "dataset['Credit_Rating']=pd.Categorical(dataset.Credit_Rating)"
      ],
      "execution_count": 7,
      "outputs": []
    },
    {
      "cell_type": "code",
      "metadata": {
        "colab": {
          "base_uri": "https://localhost:8080/"
        },
        "id": "K5_nfMxs8XyM",
        "outputId": "8e19c227-5ce8-4e20-a7f5-debcf29f394b"
      },
      "source": [
        "dataset.info()"
      ],
      "execution_count": 8,
      "outputs": [
        {
          "output_type": "stream",
          "name": "stdout",
          "text": [
            "<class 'pandas.core.frame.DataFrame'>\n",
            "RangeIndex: 14 entries, 0 to 13\n",
            "Data columns (total 5 columns):\n",
            " #   Column         Non-Null Count  Dtype   \n",
            "---  ------         --------------  -----   \n",
            " 0   Age            14 non-null     int64   \n",
            " 1   Income         14 non-null     int64   \n",
            " 2   Employee       14 non-null     category\n",
            " 3   Credit_Rating  14 non-null     category\n",
            " 4   Buys_Loan      14 non-null     category\n",
            "dtypes: category(3), int64(2)\n",
            "memory usage: 766.0 bytes\n"
          ]
        }
      ]
    },
    {
      "cell_type": "code",
      "metadata": {
        "colab": {
          "base_uri": "https://localhost:8080/",
          "height": 300
        },
        "id": "-D47S5ZL7Tlh",
        "outputId": "de1f54e1-b4a2-42c8-ca90-e4c2a7ff66fb"
      },
      "source": [
        "dataset.describe()"
      ],
      "execution_count": 9,
      "outputs": [
        {
          "output_type": "execute_result",
          "data": {
            "text/plain": [
              "             Age        Income\n",
              "count  14.000000  1.400000e+01\n",
              "mean   37.928571  1.692857e+06\n",
              "std    10.261686  8.109484e+05\n",
              "min    24.000000  6.000000e+05\n",
              "25%    27.250000  1.025000e+06\n",
              "50%    38.500000  1.600000e+06\n",
              "75%    48.750000  2.250000e+06\n",
              "max    51.000000  3.200000e+06"
            ],
            "text/html": [
              "\n",
              "  <div id=\"df-3add8191-4ab6-4dbf-b0bb-1b0bfa287c0a\" class=\"colab-df-container\">\n",
              "    <div>\n",
              "<style scoped>\n",
              "    .dataframe tbody tr th:only-of-type {\n",
              "        vertical-align: middle;\n",
              "    }\n",
              "\n",
              "    .dataframe tbody tr th {\n",
              "        vertical-align: top;\n",
              "    }\n",
              "\n",
              "    .dataframe thead th {\n",
              "        text-align: right;\n",
              "    }\n",
              "</style>\n",
              "<table border=\"1\" class=\"dataframe\">\n",
              "  <thead>\n",
              "    <tr style=\"text-align: right;\">\n",
              "      <th></th>\n",
              "      <th>Age</th>\n",
              "      <th>Income</th>\n",
              "    </tr>\n",
              "  </thead>\n",
              "  <tbody>\n",
              "    <tr>\n",
              "      <th>count</th>\n",
              "      <td>14.000000</td>\n",
              "      <td>1.400000e+01</td>\n",
              "    </tr>\n",
              "    <tr>\n",
              "      <th>mean</th>\n",
              "      <td>37.928571</td>\n",
              "      <td>1.692857e+06</td>\n",
              "    </tr>\n",
              "    <tr>\n",
              "      <th>std</th>\n",
              "      <td>10.261686</td>\n",
              "      <td>8.109484e+05</td>\n",
              "    </tr>\n",
              "    <tr>\n",
              "      <th>min</th>\n",
              "      <td>24.000000</td>\n",
              "      <td>6.000000e+05</td>\n",
              "    </tr>\n",
              "    <tr>\n",
              "      <th>25%</th>\n",
              "      <td>27.250000</td>\n",
              "      <td>1.025000e+06</td>\n",
              "    </tr>\n",
              "    <tr>\n",
              "      <th>50%</th>\n",
              "      <td>38.500000</td>\n",
              "      <td>1.600000e+06</td>\n",
              "    </tr>\n",
              "    <tr>\n",
              "      <th>75%</th>\n",
              "      <td>48.750000</td>\n",
              "      <td>2.250000e+06</td>\n",
              "    </tr>\n",
              "    <tr>\n",
              "      <th>max</th>\n",
              "      <td>51.000000</td>\n",
              "      <td>3.200000e+06</td>\n",
              "    </tr>\n",
              "  </tbody>\n",
              "</table>\n",
              "</div>\n",
              "    <div class=\"colab-df-buttons\">\n",
              "\n",
              "  <div class=\"colab-df-container\">\n",
              "    <button class=\"colab-df-convert\" onclick=\"convertToInteractive('df-3add8191-4ab6-4dbf-b0bb-1b0bfa287c0a')\"\n",
              "            title=\"Convert this dataframe to an interactive table.\"\n",
              "            style=\"display:none;\">\n",
              "\n",
              "  <svg xmlns=\"http://www.w3.org/2000/svg\" height=\"24px\" viewBox=\"0 -960 960 960\">\n",
              "    <path d=\"M120-120v-720h720v720H120Zm60-500h600v-160H180v160Zm220 220h160v-160H400v160Zm0 220h160v-160H400v160ZM180-400h160v-160H180v160Zm440 0h160v-160H620v160ZM180-180h160v-160H180v160Zm440 0h160v-160H620v160Z\"/>\n",
              "  </svg>\n",
              "    </button>\n",
              "\n",
              "  <style>\n",
              "    .colab-df-container {\n",
              "      display:flex;\n",
              "      gap: 12px;\n",
              "    }\n",
              "\n",
              "    .colab-df-convert {\n",
              "      background-color: #E8F0FE;\n",
              "      border: none;\n",
              "      border-radius: 50%;\n",
              "      cursor: pointer;\n",
              "      display: none;\n",
              "      fill: #1967D2;\n",
              "      height: 32px;\n",
              "      padding: 0 0 0 0;\n",
              "      width: 32px;\n",
              "    }\n",
              "\n",
              "    .colab-df-convert:hover {\n",
              "      background-color: #E2EBFA;\n",
              "      box-shadow: 0px 1px 2px rgba(60, 64, 67, 0.3), 0px 1px 3px 1px rgba(60, 64, 67, 0.15);\n",
              "      fill: #174EA6;\n",
              "    }\n",
              "\n",
              "    .colab-df-buttons div {\n",
              "      margin-bottom: 4px;\n",
              "    }\n",
              "\n",
              "    [theme=dark] .colab-df-convert {\n",
              "      background-color: #3B4455;\n",
              "      fill: #D2E3FC;\n",
              "    }\n",
              "\n",
              "    [theme=dark] .colab-df-convert:hover {\n",
              "      background-color: #434B5C;\n",
              "      box-shadow: 0px 1px 3px 1px rgba(0, 0, 0, 0.15);\n",
              "      filter: drop-shadow(0px 1px 2px rgba(0, 0, 0, 0.3));\n",
              "      fill: #FFFFFF;\n",
              "    }\n",
              "  </style>\n",
              "\n",
              "    <script>\n",
              "      const buttonEl =\n",
              "        document.querySelector('#df-3add8191-4ab6-4dbf-b0bb-1b0bfa287c0a button.colab-df-convert');\n",
              "      buttonEl.style.display =\n",
              "        google.colab.kernel.accessAllowed ? 'block' : 'none';\n",
              "\n",
              "      async function convertToInteractive(key) {\n",
              "        const element = document.querySelector('#df-3add8191-4ab6-4dbf-b0bb-1b0bfa287c0a');\n",
              "        const dataTable =\n",
              "          await google.colab.kernel.invokeFunction('convertToInteractive',\n",
              "                                                    [key], {});\n",
              "        if (!dataTable) return;\n",
              "\n",
              "        const docLinkHtml = 'Like what you see? Visit the ' +\n",
              "          '<a target=\"_blank\" href=https://colab.research.google.com/notebooks/data_table.ipynb>data table notebook</a>'\n",
              "          + ' to learn more about interactive tables.';\n",
              "        element.innerHTML = '';\n",
              "        dataTable['output_type'] = 'display_data';\n",
              "        await google.colab.output.renderOutput(dataTable, element);\n",
              "        const docLink = document.createElement('div');\n",
              "        docLink.innerHTML = docLinkHtml;\n",
              "        element.appendChild(docLink);\n",
              "      }\n",
              "    </script>\n",
              "  </div>\n",
              "\n",
              "\n",
              "<div id=\"df-d61124af-81ae-4f53-83af-8ab75cd90db4\">\n",
              "  <button class=\"colab-df-quickchart\" onclick=\"quickchart('df-d61124af-81ae-4f53-83af-8ab75cd90db4')\"\n",
              "            title=\"Suggest charts\"\n",
              "            style=\"display:none;\">\n",
              "\n",
              "<svg xmlns=\"http://www.w3.org/2000/svg\" height=\"24px\"viewBox=\"0 0 24 24\"\n",
              "     width=\"24px\">\n",
              "    <g>\n",
              "        <path d=\"M19 3H5c-1.1 0-2 .9-2 2v14c0 1.1.9 2 2 2h14c1.1 0 2-.9 2-2V5c0-1.1-.9-2-2-2zM9 17H7v-7h2v7zm4 0h-2V7h2v10zm4 0h-2v-4h2v4z\"/>\n",
              "    </g>\n",
              "</svg>\n",
              "  </button>\n",
              "\n",
              "<style>\n",
              "  .colab-df-quickchart {\n",
              "      --bg-color: #E8F0FE;\n",
              "      --fill-color: #1967D2;\n",
              "      --hover-bg-color: #E2EBFA;\n",
              "      --hover-fill-color: #174EA6;\n",
              "      --disabled-fill-color: #AAA;\n",
              "      --disabled-bg-color: #DDD;\n",
              "  }\n",
              "\n",
              "  [theme=dark] .colab-df-quickchart {\n",
              "      --bg-color: #3B4455;\n",
              "      --fill-color: #D2E3FC;\n",
              "      --hover-bg-color: #434B5C;\n",
              "      --hover-fill-color: #FFFFFF;\n",
              "      --disabled-bg-color: #3B4455;\n",
              "      --disabled-fill-color: #666;\n",
              "  }\n",
              "\n",
              "  .colab-df-quickchart {\n",
              "    background-color: var(--bg-color);\n",
              "    border: none;\n",
              "    border-radius: 50%;\n",
              "    cursor: pointer;\n",
              "    display: none;\n",
              "    fill: var(--fill-color);\n",
              "    height: 32px;\n",
              "    padding: 0;\n",
              "    width: 32px;\n",
              "  }\n",
              "\n",
              "  .colab-df-quickchart:hover {\n",
              "    background-color: var(--hover-bg-color);\n",
              "    box-shadow: 0 1px 2px rgba(60, 64, 67, 0.3), 0 1px 3px 1px rgba(60, 64, 67, 0.15);\n",
              "    fill: var(--button-hover-fill-color);\n",
              "  }\n",
              "\n",
              "  .colab-df-quickchart-complete:disabled,\n",
              "  .colab-df-quickchart-complete:disabled:hover {\n",
              "    background-color: var(--disabled-bg-color);\n",
              "    fill: var(--disabled-fill-color);\n",
              "    box-shadow: none;\n",
              "  }\n",
              "\n",
              "  .colab-df-spinner {\n",
              "    border: 2px solid var(--fill-color);\n",
              "    border-color: transparent;\n",
              "    border-bottom-color: var(--fill-color);\n",
              "    animation:\n",
              "      spin 1s steps(1) infinite;\n",
              "  }\n",
              "\n",
              "  @keyframes spin {\n",
              "    0% {\n",
              "      border-color: transparent;\n",
              "      border-bottom-color: var(--fill-color);\n",
              "      border-left-color: var(--fill-color);\n",
              "    }\n",
              "    20% {\n",
              "      border-color: transparent;\n",
              "      border-left-color: var(--fill-color);\n",
              "      border-top-color: var(--fill-color);\n",
              "    }\n",
              "    30% {\n",
              "      border-color: transparent;\n",
              "      border-left-color: var(--fill-color);\n",
              "      border-top-color: var(--fill-color);\n",
              "      border-right-color: var(--fill-color);\n",
              "    }\n",
              "    40% {\n",
              "      border-color: transparent;\n",
              "      border-right-color: var(--fill-color);\n",
              "      border-top-color: var(--fill-color);\n",
              "    }\n",
              "    60% {\n",
              "      border-color: transparent;\n",
              "      border-right-color: var(--fill-color);\n",
              "    }\n",
              "    80% {\n",
              "      border-color: transparent;\n",
              "      border-right-color: var(--fill-color);\n",
              "      border-bottom-color: var(--fill-color);\n",
              "    }\n",
              "    90% {\n",
              "      border-color: transparent;\n",
              "      border-bottom-color: var(--fill-color);\n",
              "    }\n",
              "  }\n",
              "</style>\n",
              "\n",
              "  <script>\n",
              "    async function quickchart(key) {\n",
              "      const quickchartButtonEl =\n",
              "        document.querySelector('#' + key + ' button');\n",
              "      quickchartButtonEl.disabled = true;  // To prevent multiple clicks.\n",
              "      quickchartButtonEl.classList.add('colab-df-spinner');\n",
              "      try {\n",
              "        const charts = await google.colab.kernel.invokeFunction(\n",
              "            'suggestCharts', [key], {});\n",
              "      } catch (error) {\n",
              "        console.error('Error during call to suggestCharts:', error);\n",
              "      }\n",
              "      quickchartButtonEl.classList.remove('colab-df-spinner');\n",
              "      quickchartButtonEl.classList.add('colab-df-quickchart-complete');\n",
              "    }\n",
              "    (() => {\n",
              "      let quickchartButtonEl =\n",
              "        document.querySelector('#df-d61124af-81ae-4f53-83af-8ab75cd90db4 button');\n",
              "      quickchartButtonEl.style.display =\n",
              "        google.colab.kernel.accessAllowed ? 'block' : 'none';\n",
              "    })();\n",
              "  </script>\n",
              "</div>\n",
              "\n",
              "    </div>\n",
              "  </div>\n"
            ],
            "application/vnd.google.colaboratory.intrinsic+json": {
              "type": "dataframe",
              "summary": "{\n  \"name\": \"dataset\",\n  \"rows\": 8,\n  \"fields\": [\n    {\n      \"column\": \"Age\",\n      \"properties\": {\n        \"dtype\": \"number\",\n        \"std\": 15.117423832188164,\n        \"min\": 10.261685914224708,\n        \"max\": 51.0,\n        \"num_unique_values\": 8,\n        \"samples\": [\n          37.92857142857143,\n          38.5,\n          14.0\n        ],\n        \"semantic_type\": \"\",\n        \"description\": \"\"\n      }\n    },\n    {\n      \"column\": \"Income\",\n      \"properties\": {\n        \"dtype\": \"number\",\n        \"std\": 1012477.6383712679,\n        \"min\": 14.0,\n        \"max\": 3200000.0,\n        \"num_unique_values\": 8,\n        \"samples\": [\n          1692857.142857143,\n          1600000.0,\n          14.0\n        ],\n        \"semantic_type\": \"\",\n        \"description\": \"\"\n      }\n    }\n  ]\n}"
            }
          },
          "metadata": {},
          "execution_count": 9
        }
      ]
    },
    {
      "cell_type": "code",
      "metadata": {
        "colab": {
          "base_uri": "https://localhost:8080/",
          "height": 506
        },
        "id": "I_BLLKDeHYnq",
        "outputId": "ab28776c-f5ae-46dc-b45d-8f55a8c1550e"
      },
      "source": [
        "dataset.hist()"
      ],
      "execution_count": 10,
      "outputs": [
        {
          "output_type": "execute_result",
          "data": {
            "text/plain": [
              "array([[<Axes: title={'center': 'Age'}>,\n",
              "        <Axes: title={'center': 'Income'}>]], dtype=object)"
            ]
          },
          "metadata": {},
          "execution_count": 10
        },
        {
          "output_type": "display_data",
          "data": {
            "text/plain": [
              "<Figure size 640x480 with 2 Axes>"
            ],
            "image/png": "[encoded data removed]"
          },
          "metadata": {}
        }
      ]
    },
    {
      "cell_type": "markdown",
      "metadata": {
        "id": "HZFrKS0gGd4P"
      },
      "source": [
        "#Independent & Dependent Variables"
      ]
    },
    {
      "cell_type": "code",
      "metadata": {
        "id": "b5FWA4arGRih"
      },
      "source": [
        "x=dataset.iloc[:,:4].values\n",
        "y=dataset.iloc[:,4:5].values"
      ],
      "execution_count": 11,
      "outputs": []
    },
    {
      "cell_type": "code",
      "metadata": {
        "colab": {
          "base_uri": "https://localhost:8080/"
        },
        "id": "S2qXteqYGzJv",
        "outputId": "f7457fa4-259f-47c9-aaa9-8f1f137995cf"
      },
      "source": [
        "x"
      ],
      "execution_count": 12,
      "outputs": [
        {
          "output_type": "execute_result",
          "data": {
            "text/plain": [
              "array([[     28, 2400000,       0,       0],\n",
              "       [     27, 2600000,       0,       1],\n",
              "       [     38, 2800000,       0,       0],\n",
              "       [     49, 1600000,       0,       0],\n",
              "       [     48,  800000,       1,       0],\n",
              "       [     49,  900000,       1,       1],\n",
              "       [     36,  600000,       1,       1],\n",
              "       [     26, 1800000,       0,       0],\n",
              "       [     24,  700000,       1,       0],\n",
              "       [     51, 1400000,       1,       0],\n",
              "       [     26, 1600000,       1,       1],\n",
              "       [     39, 1700000,       0,       1],\n",
              "       [     40, 3200000,       1,       0],\n",
              "       [     50, 1600000,       0,       1]])"
            ]
          },
          "metadata": {},
          "execution_count": 12
        }
      ]
    },
    {
      "cell_type": "code",
      "metadata": {
        "colab": {
          "base_uri": "https://localhost:8080/"
        },
        "id": "sDWbp9fxG1S_",
        "outputId": "a050892c-6346-4f81-ffcc-ee3a1385d2ce"
      },
      "source": [
        "y"
      ],
      "execution_count": 13,
      "outputs": [
        {
          "output_type": "execute_result",
          "data": {
            "text/plain": [
              "array([[0],\n",
              "       [0],\n",
              "       [1],\n",
              "       [1],\n",
              "       [1],\n",
              "       [0],\n",
              "       [1],\n",
              "       [0],\n",
              "       [1],\n",
              "       [1],\n",
              "       [1],\n",
              "       [1],\n",
              "       [1],\n",
              "       [0]])"
            ]
          },
          "metadata": {},
          "execution_count": 13
        }
      ]
    },
    {
      "cell_type": "markdown",
      "metadata": {
        "id": "a80dGAzYG3ho"
      },
      "source": [
        "#Linear Regression Model"
      ]
    },
    {
      "cell_type": "code",
      "metadata": {
        "colab": {
          "base_uri": "https://localhost:8080/"
        },
        "id": "ysMLMA0JG2v4",
        "outputId": "d3367d51-a131-46d4-96a1-68d3e5e47be5"
      },
      "source": [
        "lr_model=LinearRegression().fit(x,y)\n",
        "print(\"Slopes/Coefficients:\",lr_model.coef_)\n",
        "print(\"Intercept:\",lr_model.intercept_)"
      ],
      "execution_count": 14,
      "outputs": [
        {
          "output_type": "stream",
          "name": "stdout",
          "text": [
            "Slopes/Coefficients: [[ 4.49399253e-03  1.30374642e-08  4.27528670e-01 -2.44850857e-01]]\n",
            "Intercept: [0.34150761]\n"
          ]
        }
      ]
    },
    {
      "cell_type": "markdown",
      "metadata": {
        "id": "nuAP_IzZHHaC"
      },
      "source": [
        "##Actual vs Predicted"
      ]
    },
    {
      "cell_type": "code",
      "metadata": {
        "colab": {
          "base_uri": "https://localhost:8080/"
        },
        "id": "PuIDM_-_HMqI",
        "outputId": "7b50f9bb-3a97-4152-dbc8-b432bda60bd1"
      },
      "source": [
        "lr_predict=np.append(y,lr_model.predict(x),axis=1)\n",
        "print(lr_predict)\n",
        "#print(\"Predicted value:\\n\",lr_model.predict(x),'\\n\\nActual value:\\n',y)"
      ],
      "execution_count": 15,
      "outputs": [
        {
          "output_type": "stream",
          "name": "stdout",
          "text": [
            "[[0.         0.49862931]\n",
            " [0.         0.25189196]\n",
            " [1.         0.54878422]\n",
            " [1.         0.58257319]\n",
            " [1.         0.99517789]\n",
            " [0.         0.75612477]\n",
            " [1.         0.69379163]\n",
            " [0.         0.48181885]\n",
            " [1.         0.88601832]\n",
            " [1.         1.01648235]\n",
            " [1.         0.66188917]\n",
            " [1.         0.29408615]\n",
            " [1.         0.99051586]\n",
            " [0.         0.34221632]]\n"
          ]
        }
      ]
    },
    {
      "cell_type": "markdown",
      "metadata": {
        "id": "upbs7kOVPJWv"
      },
      "source": [
        "##Evaluation"
      ]
    },
    {
      "cell_type": "code",
      "metadata": {
        "colab": {
          "base_uri": "https://localhost:8080/"
        },
        "id": "7DYiInlrKyuL",
        "outputId": "e8e0d528-eb00-4595-fe46-65e4024e140e"
      },
      "source": [
        "print(\"R^2 value:\",lr_model.score(x,y))"
      ],
      "execution_count": 16,
      "outputs": [
        {
          "output_type": "stream",
          "name": "stdout",
          "text": [
            "R^2 value: 0.27489917793392693\n"
          ]
        }
      ]
    },
    {
      "cell_type": "markdown",
      "metadata": {
        "id": "4S7QsERUO3IJ"
      },
      "source": [
        "This model shows low level of correlation. So going with Logistic regression"
      ]
    },
    {
      "cell_type": "markdown",
      "metadata": {
        "id": "SLuGa4cZPPuu"
      },
      "source": [
        "#Logistic Regression"
      ]
    },
    {
      "cell_type": "markdown",
      "metadata": {
        "id": "WvyO1Le3QHNa"
      },
      "source": [
        "##Model 1"
      ]
    },
    {
      "cell_type": "code",
      "metadata": {
        "colab": {
          "base_uri": "https://localhost:8080/"
        },
        "id": "DBdY2UN7PGSv",
        "outputId": "61c266f9-f7a3-4f4e-8066-ec59fdcd7520"
      },
      "source": [
        "log_model1=LogisticRegression().fit(x,y)\n",
        "print(\"Coefficients:\",log_model1.coef_)\n",
        "print(\"Intercept:\",log_model1.intercept_)"
      ],
      "execution_count": 17,
      "outputs": [
        {
          "output_type": "stream",
          "name": "stdout",
          "text": [
            "Coefficients: [[ 2.38152204e-02 -2.45872492e-07  7.40773069e-01 -5.41562381e-01]]\n",
            "Intercept: [0.01938718]\n"
          ]
        },
        {
          "output_type": "stream",
          "name": "stderr",
          "text": [
            "/usr/local/lib/python3.10/dist-packages/sklearn/utils/validation.py:1339: DataConversionWarning: A column-vector y was passed when a 1d array was expected. Please change the shape of y to (n_samples, ), for example using ravel().\n",
            "  y = column_or_1d(y, warn=True)\n"
          ]
        }
      ]
    },
    {
      "cell_type": "markdown",
      "metadata": {
        "id": "dmE61XVYQYRQ"
      },
      "source": [
        "###Probability of prediction"
      ]
    },
    {
      "cell_type": "code",
      "metadata": {
        "colab": {
          "base_uri": "https://localhost:8080/"
        },
        "id": "wcGiedX1QT6I",
        "outputId": "da40ab0e-a207-4d9d-9cca-aacf8a95c6eb"
      },
      "source": [
        "log_model1.predict_proba(x)"
      ],
      "execution_count": 18,
      "outputs": [
        {
          "output_type": "execute_result",
          "data": {
            "text/plain": [
              "array([[0.47598864, 0.52401136],\n",
              "       [0.62678121, 0.37321879],\n",
              "       [0.44129141, 0.55870859],\n",
              "       [0.31153839, 0.68846161],\n",
              "       [0.15360616, 0.84639384],\n",
              "       [0.23789437, 0.76210563],\n",
              "       [0.2832449 , 0.7167551 ],\n",
              "       [0.45115319, 0.54884681],\n",
              "       [0.23873729, 0.76126271],\n",
              "       [0.16375982, 0.83624018],\n",
              "       [0.39069361, 0.60930639],\n",
              "       [0.50284118, 0.49715882],\n",
              "       [0.28374159, 0.71625841],\n",
              "       [0.43163344, 0.56836656]])"
            ]
          },
          "metadata": {},
          "execution_count": 18
        }
      ]
    },
    {
      "cell_type": "markdown",
      "metadata": {
        "id": "A8zWTojTQ3Dj"
      },
      "source": [
        "###Actual vs Predicted"
      ]
    },
    {
      "cell_type": "code",
      "metadata": {
        "colab": {
          "base_uri": "https://localhost:8080/"
        },
        "id": "xmBSJtEQQ-gT",
        "outputId": "b23cf4c2-5bae-4d23-cad7-1b27a75a5112"
      },
      "source": [
        "log_pred_y=np.reshape(log_model1.predict(x),(len(y),1))\n",
        "log_model1_predict=np.append(y,log_pred_y,axis=1)\n",
        "print(log_model1_predict)"
      ],
      "execution_count": 19,
      "outputs": [
        {
          "output_type": "stream",
          "name": "stdout",
          "text": [
            "[[0 1]\n",
            " [0 0]\n",
            " [1 1]\n",
            " [1 1]\n",
            " [1 1]\n",
            " [0 1]\n",
            " [1 1]\n",
            " [0 1]\n",
            " [1 1]\n",
            " [1 1]\n",
            " [1 1]\n",
            " [1 0]\n",
            " [1 1]\n",
            " [0 1]]\n"
          ]
        }
      ]
    },
    {
      "cell_type": "markdown",
      "metadata": {
        "id": "n0z1knIHVTDI"
      },
      "source": [
        "###Evaluating Loigistic Regression Model1"
      ]
    },
    {
      "cell_type": "code",
      "metadata": {
        "colab": {
          "base_uri": "https://localhost:8080/"
        },
        "id": "tSUuscWZVavv",
        "outputId": "3835921b-7d66-4956-95eb-0000ff079311"
      },
      "source": [
        "print(\"R^2 value:\",log_model1.score(x,y))"
      ],
      "execution_count": 20,
      "outputs": [
        {
          "output_type": "stream",
          "name": "stdout",
          "text": [
            "R^2 value: 0.6428571428571429\n"
          ]
        }
      ]
    },
    {
      "cell_type": "markdown",
      "metadata": {
        "id": "Jf8waK2WV42g"
      },
      "source": [
        "####Confusion Matrix"
      ]
    },
    {
      "cell_type": "code",
      "metadata": {
        "colab": {
          "base_uri": "https://localhost:8080/",
          "height": 676
        },
        "id": "doQCZBPoV71o",
        "outputId": "7e50815a-9a47-4c94-bc39-da9da080c34b"
      },
      "source": [
        "cm = confusion_matrix(y, log_model1.predict(x))\n",
        "\n",
        "fig, ax = plt.subplots(figsize=(8, 8))\n",
        "ax.imshow(cm)\n",
        "ax.grid(False)\n",
        "ax.xaxis.set(ticks=(0, 1), ticklabels=('Predicted 0s', 'Predicted 1s'))\n",
        "ax.yaxis.set(ticks=(0, 1), ticklabels=('Actual 0s', 'Actual 1s'))\n",
        "ax.set_ylim(1.5, -0.5)\n",
        "for i in range(2):\n",
        "    for j in range(2):\n",
        "        ax.text(j, i, cm[i, j], ha='center', va='center', color='red')\n",
        "plt.show()\n"
      ],
      "execution_count": 21,
      "outputs": [
        {
          "output_type": "display_data",
          "data": {
            "text/plain": [
              "<Figure size 800x800 with 1 Axes>"
            ],
            "image/png": "[encoded data removed]"
          },
          "metadata": {}
        }
      ]
    },
    {
      "cell_type": "markdown",
      "metadata": {
        "id": "Tt-Y-FQ-WDKh"
      },
      "source": [
        "####Classification Report"
      ]
    },
    {
      "cell_type": "code",
      "metadata": {
        "colab": {
          "base_uri": "https://localhost:8080/"
        },
        "id": "Bk2SbI_ZWIv6",
        "outputId": "2041fe1c-513f-4573-b57d-a96d57c3aee5"
      },
      "source": [
        "print(classification_report(y, log_model1.predict(x)))"
      ],
      "execution_count": 22,
      "outputs": [
        {
          "output_type": "stream",
          "name": "stdout",
          "text": [
            "              precision    recall  f1-score   support\n",
            "\n",
            "           0       0.50      0.20      0.29         5\n",
            "           1       0.67      0.89      0.76         9\n",
            "\n",
            "    accuracy                           0.64        14\n",
            "   macro avg       0.58      0.54      0.52        14\n",
            "weighted avg       0.61      0.64      0.59        14\n",
            "\n"
          ]
        }
      ]
    },
    {
      "cell_type": "markdown",
      "metadata": {
        "id": "h_DOZeN_Vkx_"
      },
      "source": [
        "###Note: </br>0.64 or 64% Accuracy is a fair. Let us try the same with different solver to increase the score."
      ]
    },
    {
      "cell_type": "markdown",
      "metadata": {
        "id": "Wez45Oo6Wc0T"
      },
      "source": [
        "##Model 2"
      ]
    },
    {
      "cell_type": "code",
      "metadata": {
        "colab": {
          "base_uri": "https://localhost:8080/"
        },
        "id": "Czgok6KQWkpJ",
        "outputId": "20bfc335-8ff0-4f2b-9b0d-26414f06971a"
      },
      "source": [
        "log_model2 = LogisticRegression(solver='newton-cg', multi_class='multinomial', random_state=0, fit_intercept=True, dual=False, penalty=None).fit(x,y) # Changed 'none' to None\n",
        "print(\"Coefficients:\", log_model2.coef_)\n",
        "print(\"Intercept:\", log_model2.intercept_)"
      ],
      "execution_count": 24,
      "outputs": [
        {
          "output_type": "stream",
          "name": "stderr",
          "text": [
            "/usr/local/lib/python3.10/dist-packages/sklearn/utils/validation.py:1339: DataConversionWarning: A column-vector y was passed when a 1d array was expected. Please change the shape of y to (n_samples, ), for example using ravel().\n",
            "  y = column_or_1d(y, warn=True)\n",
            "/usr/local/lib/python3.10/dist-packages/sklearn/linear_model/_logistic.py:1237: FutureWarning: 'multi_class' was deprecated in version 1.5 and will be removed in 1.7. From then on, binary problems will be fit as proper binary  logistic regression models (as if multi_class='ovr' were set). Leave it to its default value to avoid this warning.\n",
            "  warnings.warn(\n",
            "/usr/local/lib/python3.10/dist-packages/scipy/optimize/_linesearch.py:313: LineSearchWarning: The line search algorithm did not converge\n",
            "  alpha_star, phi_star, old_fval, derphi_star = scalar_search_wolfe2(\n",
            "/usr/local/lib/python3.10/dist-packages/sklearn/utils/optimize.py:99: LineSearchWarning: The line search algorithm did not converge\n",
            "  ret = line_search_wolfe2(\n"
          ]
        },
        {
          "output_type": "stream",
          "name": "stdout",
          "text": [
            "Coefficients: [[ 1.86478755e-02  1.47562403e-07  1.28228298e+00 -7.19639712e-01]]\n",
            "Intercept: [-0.84684151]\n"
          ]
        }
      ]
    },
    {
      "cell_type": "markdown",
      "metadata": {
        "id": "SkKnyNWYXxkf"
      },
      "source": [
        "###Probability of Prediction"
      ]
    },
    {
      "cell_type": "code",
      "metadata": {
        "colab": {
          "base_uri": "https://localhost:8080/"
        },
        "id": "iSBKVubYX159",
        "outputId": "b645a19f-b5ab-438a-d6d5-1195ae552083"
      },
      "source": [
        "log_model2.predict_proba(x)"
      ],
      "execution_count": 25,
      "outputs": [
        {
          "output_type": "execute_result",
          "data": {
            "text/plain": [
              "array([[0.48527987, 0.51472013],\n",
              "       [0.79554063, 0.20445937],\n",
              "       [0.36588646, 0.63411354],\n",
              "       [0.35297026, 0.64702974],\n",
              "       [0.0522932 , 0.9477068 ],\n",
              "       [0.17876934, 0.82123066],\n",
              "       [0.27861834, 0.72138166],\n",
              "       [0.54804353, 0.45195647],\n",
              "       [0.12211329, 0.87788671],\n",
              "       [0.03969061, 0.96030939],\n",
              "       [0.29452806, 0.70547194],\n",
              "       [0.76435682, 0.23564318],\n",
              "       [0.035328  , 0.964672  ],\n",
              "       [0.68911288, 0.31088712]])"
            ]
          },
          "metadata": {},
          "execution_count": 25
        }
      ]
    },
    {
      "cell_type": "markdown",
      "metadata": {
        "id": "umyWTJlcX7_p"
      },
      "source": [
        "###Actual vs Predicted"
      ]
    },
    {
      "cell_type": "code",
      "metadata": {
        "colab": {
          "base_uri": "https://localhost:8080/"
        },
        "id": "ZhNdjETAYCmN",
        "outputId": "6896cfee-ec00-4065-9b0a-f6ff85fa7c1a"
      },
      "source": [
        "log_pred_y2=np.reshape(log_model2.predict(x),(len(y),1))\n",
        "log_model2_predict=np.append(y,log_pred_y2,axis=1)\n",
        "print(log_model2_predict)"
      ],
      "execution_count": 26,
      "outputs": [
        {
          "output_type": "stream",
          "name": "stdout",
          "text": [
            "[[0 1]\n",
            " [0 0]\n",
            " [1 1]\n",
            " [1 1]\n",
            " [1 1]\n",
            " [0 1]\n",
            " [1 1]\n",
            " [0 0]\n",
            " [1 1]\n",
            " [1 1]\n",
            " [1 1]\n",
            " [1 0]\n",
            " [1 1]\n",
            " [0 0]]\n"
          ]
        }
      ]
    },
    {
      "cell_type": "markdown",
      "metadata": {
        "id": "imU4XKlmYbAG"
      },
      "source": [
        "###Evaluating Logistic Regression Model2"
      ]
    },
    {
      "cell_type": "code",
      "metadata": {
        "colab": {
          "base_uri": "https://localhost:8080/"
        },
        "id": "yu8hzQQ4Yg1-",
        "outputId": "684ee466-de86-47f1-93ec-020a2d6c08b1"
      },
      "source": [
        "print(\"R^2 value:\",log_model2.score(x,y))"
      ],
      "execution_count": 27,
      "outputs": [
        {
          "output_type": "stream",
          "name": "stdout",
          "text": [
            "R^2 value: 0.7857142857142857\n"
          ]
        }
      ]
    },
    {
      "cell_type": "markdown",
      "metadata": {
        "id": "jSsxWt5vY1xA"
      },
      "source": [
        "####Confusion Matrix"
      ]
    },
    {
      "cell_type": "code",
      "metadata": {
        "colab": {
          "base_uri": "https://localhost:8080/",
          "height": 676
        },
        "id": "5_UJx4gGZCEB",
        "outputId": "6dc03d74-31a6-4cde-aee1-02d2c8905f0b"
      },
      "source": [
        "cm = confusion_matrix(y, log_model2.predict(x))\n",
        "\n",
        "fig, ax = plt.subplots(figsize=(8, 8))\n",
        "ax.imshow(cm)\n",
        "ax.grid(False)\n",
        "ax.xaxis.set(ticks=(0, 1), ticklabels=('Predicted 0s', 'Predicted 1s'))\n",
        "ax.yaxis.set(ticks=(0, 1), ticklabels=('Actual 0s', 'Actual 1s'))\n",
        "ax.set_ylim(1.5, -0.5)\n",
        "for i in range(2):\n",
        "    for j in range(2):\n",
        "        ax.text(j, i, cm[i, j], ha='center', va='center', color='red')\n",
        "plt.show()\n"
      ],
      "execution_count": 28,
      "outputs": [
        {
          "output_type": "display_data",
          "data": {
            "text/plain": [
              "<Figure size 800x800 with 1 Axes>"
            ],
            "image/png": "[encoded data removed]"
          },
          "metadata": {}
        }
      ]
    },
    {
      "cell_type": "markdown",
      "metadata": {
        "id": "5EltQvclZwd5"
      },
      "source": [
        "####Classification Report"
      ]
    },
    {
      "cell_type": "code",
      "metadata": {
        "colab": {
          "base_uri": "https://localhost:8080/"
        },
        "id": "_ec5_6JaZNRo",
        "outputId": "05463f9e-5242-439a-f998-0c8597b9d524"
      },
      "source": [
        "print(classification_report(y, log_model2.predict(x)))"
      ],
      "execution_count": 29,
      "outputs": [
        {
          "output_type": "stream",
          "name": "stdout",
          "text": [
            "              precision    recall  f1-score   support\n",
            "\n",
            "           0       0.75      0.60      0.67         5\n",
            "           1       0.80      0.89      0.84         9\n",
            "\n",
            "    accuracy                           0.79        14\n",
            "   macro avg       0.78      0.74      0.75        14\n",
            "weighted avg       0.78      0.79      0.78        14\n",
            "\n"
          ]
        }
      ]
    },
    {
      "cell_type": "markdown",
      "metadata": {
        "id": "PpbVZedAZgMK"
      },
      "source": [
        "###Note:</br>Model2 gives 0.79 or 79% Accuracy. Better compared to Model1\n",
        "\n",
        "*   By using newton-cg solver and multi class as multinomial, we attain better accuracy.\n",
        "*   In newton-cg solver the inputs are normalized(l2 normalization).\n",
        "\n"
      ]
    },
    {
      "cell_type": "markdown",
      "metadata": {
        "id": "LrZoqrvaalx8"
      },
      "source": [
        "#Choosing Model for predicting new customer"
      ]
    },
    {
      "cell_type": "markdown",
      "metadata": {
        "id": "lwllMCysa7IW"
      },
      "source": [
        "Linear Regression Model--> 0.27</br>\n",
        "Logistic Regression Model1--> 0.64</br>\n",
        "**Logistic Regression Model2 --> 0.78**</br>\n",
        "Wise to choose Logistic Regression Model2 to predict whether the customer buy the product or not.\n"
      ]
    },
    {
      "cell_type": "markdown",
      "metadata": {
        "id": "jV8lnrDzcObR"
      },
      "source": [
        "#Prediction"
      ]
    },
    {
      "cell_type": "code",
      "metadata": {
        "colab": {
          "base_uri": "https://localhost:8080/"
        },
        "id": "K_JAcZ4kanuc",
        "outputId": "6c778143-d096-4324-b144-bac1f2dc0237"
      },
      "source": [
        "#Age=25; Income=1500000; Employee=1(yes); Credit_Rating=0(fair) --> 25,1500000,1,0\n",
        "new_x=[[25,1500000,1,0]]\n",
        "print(log_model2.predict(new_x))\n",
        "print(log_model2.predict_proba(new_x))"
      ],
      "execution_count": 30,
      "outputs": [
        {
          "output_type": "stream",
          "name": "stdout",
          "text": [
            "[1]\n",
            "[[0.09569818 0.90430182]]\n"
          ]
        }
      ]
    },
    {
      "cell_type": "markdown",
      "metadata": {
        "id": "WmqskeZ_dF2l"
      },
      "source": [
        " **1 implies customer would take up the loan.</br>\n",
        "Model states the probability of that customer to take up loan is 90.45%.**"
      ]
    }
  ]
}